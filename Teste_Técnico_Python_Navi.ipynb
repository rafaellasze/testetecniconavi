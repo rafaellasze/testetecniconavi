{
  "nbformat": 4,
  "nbformat_minor": 0,
  "metadata": {
    "colab": {
      "name": "Teste Técnico Python Navi.ipynb",
      "provenance": []
    },
    "kernelspec": {
      "name": "python3",
      "display_name": "Python 3"
    }
  },
  "cells": [
    {
      "cell_type": "code",
      "metadata": {
        "colab": {
          "base_uri": "https://localhost:8080/"
        },
        "id": "WtK47BkdbFsc",
        "outputId": "145ccffa-875f-4d7a-e7dc-349dc5ee5d12"
      },
      "source": [
        "#Exercício 1\n",
        "\n",
        "list = []\n",
        "\n",
        "for i in range (0,500001):\n",
        "  if (i%2 == 0):\n",
        "   if (i%37 == 0):\n",
        "    if (i%49 == 0):\n",
        "     list.append(i)\n",
        "\n",
        "print ('A quantidade de números que atende aos três critérios é', len(list))\n"
      ],
      "execution_count": 157,
      "outputs": [
        {
          "output_type": "stream",
          "text": [
            "A quantidade de números que atende aos três critérios é 138\n"
          ],
          "name": "stdout"
        }
      ]
    },
    {
      "cell_type": "code",
      "metadata": {
        "colab": {
          "base_uri": "https://localhost:8080/"
        },
        "id": "AjXes-muRzVs",
        "outputId": "2f9b13c8-8ad8-4325-fce7-0eeb7af993b3"
      },
      "source": [
        "#Exercício 2\n",
        "\n",
        "import math\n",
        "\n",
        "def fatorial(n):\n",
        "  f=1\n",
        "  for c in range (n,0,-1):\n",
        "    f *= c\n",
        "  return f\n",
        "\n",
        "xn = 10\n",
        "x=[];\n",
        "for i in range (0,xn,1):\n",
        "    if (i%2 == 0):\n",
        "      x.append(3**i+7*fatorial(i))\n",
        "    else:\n",
        "      x.append(2**i+4*math.log(i))\n",
        "\n",
        "maior_elemento = max(x)\n",
        "posicao_elemento = x.index(maior_elemento)\n",
        "media = sum(x)/xn\n",
        "\n",
        "print('A posição do maior elemento é', posicao_elemento)\n",
        "print('A média dos elementos é', \"%.2f\" % media)\n"
      ],
      "execution_count": 194,
      "outputs": [
        {
          "output_type": "stream",
          "text": [
            "A posição do maior elemento é 8\n",
            "A média dos elementos é 29555.94\n"
          ],
          "name": "stdout"
        }
      ]
    },
    {
      "cell_type": "code",
      "metadata": {
        "colab": {
          "base_uri": "https://localhost:8080/"
        },
        "id": "6ZYhAO7eT88u",
        "outputId": "2dc9c77d-d05e-4361-8886-3a5632156d7a"
      },
      "source": [
        "#Exercício 3\n",
        "\n",
        "import random\n",
        "import numpy as np\n",
        "\n",
        "x = np.random.randint(1,10, (1,5))\n",
        "print (x)\n",
        "\n",
        "notas = {x[0,0]:'Aluno1',x[0,1]:'Aluno2',x[0,2]:'Aluno3',x[0,3]:'Aluno4',x[0,4]:'Aluno5'}\n",
        "\n",
        "print('A maior nota é', x[0,np.argmax(x)], 'do aluno', notas[x[0,np.argmax(x)]])\n"
      ],
      "execution_count": 238,
      "outputs": [
        {
          "output_type": "stream",
          "text": [
            "[[3 2 4 8 9]]\n",
            "A maior nota é 9 do aluno Aluno5\n"
          ],
          "name": "stdout"
        }
      ]
    }
  ]
}